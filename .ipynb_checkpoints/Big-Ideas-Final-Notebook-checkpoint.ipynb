{
 "cells": [
  {
   "cell_type": "markdown",
   "metadata": {},
   "source": [
    "# Big Ideas Final Notebook"
   ]
  },
  {
   "cell_type": "markdown",
   "metadata": {},
   "source": [
    "# Introduction\n",
    "\n",
    "* Imagine a world haunted by silence and eerie shuffles echoing through desolate streets, overrun by a relentless hoard of undead. Humanity has been struck by another pandemic, this one much more sinister and deadly… or… “undeadly”. Zombies. The ravenous monsters have unleashed an unimaginable terror onto this world, and you need to survive. To ensure the safety of you and your loved ones, your only chance of survival is to live in the best neighborhood in Pittsburgh. \n",
    "\n",
    "# Metrics:\n",
    "* To find the best neighborhood to survive a zombie apocalypse we chose three metrics: Number of stores in the neighborhood, number of food gardens, and the population density. "
   ]
  },
  {
   "cell_type": "code",
   "execution_count": null,
   "metadata": {},
   "outputs": [],
   "source": []
  }
 ],
 "metadata": {
  "kernelspec": {
   "display_name": "Python 3",
   "language": "python",
   "name": "python3"
  },
  "language_info": {
   "codemirror_mode": {
    "name": "ipython",
    "version": 3
   },
   "file_extension": ".py",
   "mimetype": "text/x-python",
   "name": "python",
   "nbconvert_exporter": "python",
   "pygments_lexer": "ipython3",
   "version": "3.8.3"
  }
 },
 "nbformat": 4,
 "nbformat_minor": 4
}
