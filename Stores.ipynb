{
 "cells": [
  {
   "cell_type": "markdown",
   "metadata": {},
   "source": [
    "# Stores!\n",
    "Here are some reasons to consider why it would be beneficial to be near a store if a zombie apocolypse happend:\n",
    "\n",
    "* Supplies: stores offer essential items that you need to survive like food, water, medical supplies, fire kits, and more. By neing near a store, you can quickly grab these essentials before finding a more long-term solution.\n",
    "\n",
    "* Weapons: some stores offer things that you can use as weapons. These could be tools from a tool section or, if you get lucky, they have a gun section. Having these weapons is crucial to your survival of fending off zombies trying to kill you.\n",
    "\n",
    "* Shelter: stores can also offer temporary shelter to rest for a few days. You can also use stores to get away from zombies by barricading the doors. Compared to other shelters like houses, stores are  an optimal place to hide because they usually have fewer windows and more things to barricade the doors with\n",
    "\n"
   ]
  },
  {
   "cell_type": "markdown",
   "metadata": {},
   "source": [
    "![zombie](https://media.giphy.com/media/3ov9jLEg29NBxMfAWY/giphy.gif)"
   ]
  },
  {
   "cell_type": "code",
   "execution_count": 5,
   "metadata": {},
   "outputs": [
    {
     "name": "stdout",
     "output_type": "stream",
     "text": [
      "count    41.000000\n",
      "mean      9.292683\n",
      "std       6.269944\n",
      "min       1.000000\n",
      "25%       5.000000\n",
      "50%       8.000000\n",
      "75%      15.000000\n",
      "max      28.000000\n",
      "Name: Zip, dtype: float64\n"
     ]
    },
    {
     "data": {
      "image/png": "[encoded data removed]",
      "text/plain": [
       "<Figure size 720x720 with 1 Axes>"
      ]
     },
     "metadata": {
      "needs_background": "light"
     },
     "output_type": "display_data"
    }
   ],
   "source": [
    "import pandas as pd\n",
    "import numpy as np\n",
    "df = pd.read_csv(\"stores.csv\")\n",
    "pittZip = pd.Series(df[\"Zip\"])\n",
    "pittZip = pittZip.astype(str)\n",
    "qmaskZip = pd.DataFrame(df[pittZip.str.contains(\"152\")])\n",
    "\n",
    "inPitt = qmaskZip.Zip.value_counts(ascending = False);\n",
    "\n",
    "qmaskZip[\"Zip\"].value_counts().plot(kind='bar', xlabel = \"Zip Codes\", ylabel = \"Amount of Stores in Zip Code\", rot=90, figsize = (10, 10))\n",
    "print(inPitt.describe())\n"
   ]
  },
  {
   "cell_type": "markdown",
   "metadata": {},
   "source": [
    "The Top 5 Zipcodes were:\n",
    "* 15237\n",
    "* 15222\n",
    "* 15210\n",
    "* 15213\n",
    "* 15206"
   ]
  },
  {
   "cell_type": "markdown",
   "metadata": {},
   "source": [
    "These zipcodes correlate with these neighborhoods:\n",
    "* Churchill, Penn Hills, Wilkins\n",
    "* Downtown Pittsburgh\n",
    "* Knoxville, Beltzhoover, Carrick, Arlington\n",
    "* Oakland, Bellfield\n",
    "* East Liberty, Morningside, East End"
   ]
  },
  {
   "cell_type": "markdown",
   "metadata": {},
   "source": [
    "Conclusion: According to my data, the zipcode 15237, which contain parts of the neighborhoods Chruchill, Penn Hills, and Wilkins, have the most stores."
   ]
  }
 ],
 "metadata": {
  "kernelspec": {
   "display_name": "Python 3",
   "language": "python",
   "name": "python3"
  },
  "language_info": {
   "codemirror_mode": {
    "name": "ipython",
    "version": 3
   },
   "file_extension": ".py",
   "mimetype": "text/x-python",
   "name": "python",
   "nbconvert_exporter": "python",
   "pygments_lexer": "ipython3",
   "version": "3.8.3"
  }
 },
 "nbformat": 4,
 "nbformat_minor": 4
}
