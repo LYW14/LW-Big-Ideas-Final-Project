{
 "cells": [
  {
   "cell_type": "markdown",
   "metadata": {},
   "source": [
    "# Food gardens! \n",
    "Here are some reasons to consider why you should be near a garden during the zombie apocalypse. \n",
    "\n",
    "* Food Source: Gardens provide fresh fruits, vegetables, and herbs, ensuring a sustainable food source. Resources will be scarce, having access to fresh fruits and veg might just save your life!\n",
    "\n",
    "* Sustainability: Growing your own food allows you to be self-sufficient. It reduces the need to venture out in search of supplies, which will be dangerous during the apocalypse. Also, won't have to depend on anyone but yourself, and sometimes, people suck. If you want things done right, do it yourself. \n",
    "\n",
    "* Health Benefits: Fresh produce from a garden can provide vitamins, keeping your overall health.\n",
    "\n",
    "* Also, if this apocalypse thing ever comes to an end, you can start selling at farmers markets, which is pretty cool."
   ]
  },
  {
   "cell_type": "markdown",
   "metadata": {},
   "source": [
    "<!-- ![butt garden](https://i.gifer.com/oe4.gif) -->\n",
    "<img src=\"https://i.gifer.com/oe4.gif\" width=\"1500\" height=\"1500\"/>\n"
   ]
  },
  {
   "cell_type": "code",
   "execution_count": 29,
   "metadata": {},
   "outputs": [
    {
     "name": "stdout",
     "output_type": "stream",
     "text": [
      "AxesSubplot(0.125,0.125;0.775x0.755)\n",
      "\n",
      "This piechart organizes all the food gardens based on zipcode. As you can see, the zipcode with the most foodgardens is 15206.  Since they have the most gardens, it would be most beneficial to live there.  This area code includes the neighborhoods of EAST LIBERTY, MORNINGSIDE & EAST END, and part of PENN HILLS TOWNSHIP.  The next zipcode with the most foodgardens is 15219, which includes the neighborhoods of UPTOWN, HERRON HILL & SCHENLEY HEIGHTS. \n"
     ]
    },
    {
     "data": {
      "image/png": "[encoded data removed]",
      "text/plain": [
       "<Figure size 504x504 with 1 Axes>"
      ]
     },
     "metadata": {
      "needs_background": "light"
     },
     "output_type": "display_data"
    }
   ],
   "source": [
    "import pandas as pd\n",
    "import numpy as np\n",
    "import matplotlib.pyplot as plt\n",
    "from scipy.stats import norm \n",
    "import statistics \n",
    "\n",
    "df = pd.read_csv('food_gardens.csv')\n",
    "\n",
    "zip_code = pd.Series(df['zip_code'])\n",
    "zip_code = zip_code.astype(str)\n",
    "q_mask_by_zip = pd.DataFrame(df[zip_code.str.contains('152')])\n",
    "# q_mask_by_zip['freq'] = q_mask_by_zip.groupby('zip_code')['zip_code'].transform('count')\n",
    "# print(q_mask_by_zip['freq'])\n",
    "\n",
    "\n",
    "plot = q_mask_by_zip['zip_code'].value_counts().plot(kind='bar', xlabel='zip_code', ylabel= zip_code.value_counts(), figsize = (7,7))\n",
    "print(plot)\n",
    "\n",
    "print()\n",
    "print(\"This piechart organizes all the food gardens based on zipcode.\", \n",
    "      \"As you can see, the zipcode with the most foodgardens is 15206. \",\n",
    "      \"Since they have the most gardens, it would be most beneficial to live there. \",\n",
    "     \"This area code includes the neighborhoods of EAST LIBERTY, MORNINGSIDE & EAST END, and part of PENN HILLS TOWNSHIP. \",\n",
    "     \"There is also a number of neighborhoods that have only 1 garden. It is not a good idea to live there if you want to grow your own food during the apocalypse. \")\n"
   ]
  },
  {
   "cell_type": "code",
   "execution_count": null,
   "metadata": {},
   "outputs": [],
   "source": [
    "byZipcode = q_mask_by_zip.zip_code.value_counts(ascending = False); \n",
    "print(byZipcode.describe())\n",
    "\n",
    "# q_mask_top25 = q_mask_by_zip['zip_code'] >= 3\n",
    "# q_mask_top25 = df[q_mask_top25]\n",
    "print(q_mask_by_zip['zip_code'].value_counts())"
   ]
  },
  {
   "cell_type": "markdown",
   "metadata": {},
   "source": [
    "Since the data is right skewed because of the outliers of 13 gardens in 15206 and 7 gardens in 15219 (upper bound is 6.620, lower bound is .880), we are going to consider the top 25th percentile as the best zipcodes you can live in for farming purposes during the apocolypse. These zipcodes include: \n",
    "* 15206 \n",
    "* 15219 \n",
    "* 15213 \n",
    "* 15201 \n",
    "* 15221 \n",
    "* 15208 \n",
    "\n",
    "Which include the following neighborhoods (respectively): \n",
    "* EAST LIBERTY, MORNINGSIDE & EAST END; \n",
    "* REGENT SQUARE & SWISSHELM PARK; \n",
    "* UPTOWN, HERRON HILL & SCHENLEY HEIGHTS; \n",
    "* OAKLAND & BELLEFIELD; LAWRENCEVILLE & STANTON HEIGHTS; \n",
    "* BRUSHTON, HOMEWOOD & EAST HILLS; \n",
    "* HOMEWOOD, BRUSHTON, EAST END & POINT BREEZE; "
   ]
  },
  {
   "cell_type": "markdown",
   "metadata": {},
   "source": [
    "![a litte disturbing](https://i.gifer.com/650.gif)"
   ]
  }
 ],
 "metadata": {
  "kernelspec": {
   "display_name": "Python 3",
   "language": "python",
   "name": "python3"
  },
  "language_info": {
   "codemirror_mode": {
    "name": "ipython",
    "version": 3
   },
   "file_extension": ".py",
   "mimetype": "text/x-python",
   "name": "python",
   "nbconvert_exporter": "python",
   "pygments_lexer": "ipython3",
   "version": "3.8.3"
  }
 },
 "nbformat": 4,
 "nbformat_minor": 4
}
